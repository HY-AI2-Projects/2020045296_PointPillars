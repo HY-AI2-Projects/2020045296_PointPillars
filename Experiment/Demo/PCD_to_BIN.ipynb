{
 "cells": [
  {
   "cell_type": "code",
   "execution_count": 5,
   "id": "86623b7f",
   "metadata": {},
   "outputs": [
    {
     "name": "stdout",
     "output_type": "stream",
     "text": [
      "Requirement already satisfied: pypcd in d:\\project\\anaconda\\lib\\site-packages (0.1.1)\n",
      "Requirement already satisfied: numpy in d:\\project\\anaconda\\lib\\site-packages (from pypcd) (1.24.3)\n",
      "Requirement already satisfied: python-lzf in d:\\project\\anaconda\\lib\\site-packages (from pypcd) (0.2.4)\n"
     ]
    }
   ],
   "source": [
    "pip3 install --upgrade git+https://github.com/klintan/pypcd.git"
   ]
  },
  {
   "cell_type": "code",
   "execution_count": 20,
   "id": "156c1617",
   "metadata": {},
   "outputs": [
    {
     "name": "stdout",
     "output_type": "stream",
     "text": [
      "Finish to load point clouds!\n",
      "Finish to generate csv meta file\n",
      "Converting Start!\n"
     ]
    },
    {
     "name": "stderr",
     "output_type": "stream",
     "text": [
      "100%|█████████████████████████████████████████████████████████████████████████████████| 21/21 [00:00<00:00, 112.94it/s]\n"
     ]
    }
   ],
   "source": [
    "import numpy as np\n",
    "import os\n",
    "from pypcd import pypcd\n",
    "import csv\n",
    "from tqdm import tqdm\n",
    "\n",
    "def main():\n",
    "    ## Add parser\n",
    "\n",
    "    pcd_path = './'\n",
    "    bin_path = './'\n",
    "    file_name = 'test'\n",
    "\n",
    "    ## Find all pcd files\n",
    "    pcd_files = []\n",
    "    for (path, dir, files) in os.walk(pcd_path):\n",
    "        for filename in files:\n",
    "            # print(filename)\n",
    "            ext = os.path.splitext(filename)[-1]\n",
    "            if ext == '.pcd':\n",
    "                pcd_files.append(path + \"/\" + filename)\n",
    "\n",
    "    ## Sort pcd files by file name\n",
    "    pcd_files.sort()   \n",
    "    print(\"Finish to load point clouds!\")\n",
    "\n",
    "    ## Make bin_path directory\n",
    "    try:\n",
    "        if not (os.path.isdir(bin_path)):\n",
    "            os.makedirs(os.path.join(bin_path))\n",
    "    except OSError as e:\n",
    "        if e.errno != errno.EEXIST:\n",
    "            print (\"Failed to create directory!!!!!\")\n",
    "            raise\n",
    "\n",
    "    ## Generate csv meta file\n",
    "    csv_file_path = os.path.join(bin_path, \"meta.csv\")\n",
    "    csv_file = open(csv_file_path, \"w\")\n",
    "    meta_file = csv.writer(\n",
    "        csv_file, delimiter=\",\", quotechar=\"|\", quoting=csv.QUOTE_MINIMAL\n",
    "    )\n",
    "    ## Write csv meta file header\n",
    "    meta_file.writerow(\n",
    "        [\n",
    "            \"pcd file name\",\n",
    "            \"bin file name\",\n",
    "        ]\n",
    "    )\n",
    "    print(\"Finish to generate csv meta file\")\n",
    "\n",
    "    ## Converting Process\n",
    "    print(\"Converting Start!\")\n",
    "    seq = 0\n",
    "    for pcd_file in tqdm(pcd_files):\n",
    "        ## Get pcd file\n",
    "        pc = pypcd.PointCloud.from_path(pcd_file)\n",
    "\n",
    "        ## Generate bin file name\n",
    "        bin_file_name = \"{}_{:05d}.bin\".format(file_name, seq)\n",
    "        bin_file_path = os.path.join(bin_path, bin_file_name)\n",
    "        \n",
    "        ## Get data from pcd (x, y, z, intensity, ring, time)\n",
    "        np_x = (np.array(pc.pc_data['x'], dtype=np.float32)).astype(np.float32)\n",
    "        np_y = (np.array(pc.pc_data['y'], dtype=np.float32)).astype(np.float32)\n",
    "        np_z = (np.array(pc.pc_data['z'], dtype=np.float32)).astype(np.float32)\n",
    "        np_i = (np.array(np.ones(len(pc.pc_data['x'])), dtype=np.float32)).astype(np.float32)/256\n",
    "        #np_i = (np.array(pc.pc_data['i'], dtype=np.float32)).astype(np.float32)/256\n",
    "        #np_i = (np.array(pc.pc_data['intensity'], dtype=np.float32)).astype(np.float32)/256\n",
    "        # np_r = (np.array(pc.pc_data['ring'], dtype=np.float32)).astype(np.float32)\n",
    "        # np_t = (np.array(pc.pc_data['time'], dtype=np.float32)).astype(np.float32)\n",
    "\n",
    "        ## Stack all data    \n",
    "        points_32 = np.transpose(np.vstack((np_x, np_y, np_z, np_i)))\n",
    "\n",
    "        ## Save bin file                                    \n",
    "        points_32.tofile(bin_file_path)\n",
    "\n",
    "        ## Write csv meta file\n",
    "        meta_file.writerow(\n",
    "            [os.path.split(pcd_file)[-1], bin_file_name]\n",
    "        )\n",
    "\n",
    "        seq = seq + 1\n",
    "    \n",
    "if __name__ == \"__main__\":\n",
    "    main()"
   ]
  }
 ],
 "metadata": {
  "kernelspec": {
   "display_name": "vision",
   "language": "python",
   "name": "vision"
  },
  "language_info": {
   "codemirror_mode": {
    "name": "ipython",
    "version": 3
   },
   "file_extension": ".py",
   "mimetype": "text/x-python",
   "name": "python",
   "nbconvert_exporter": "python",
   "pygments_lexer": "ipython3",
   "version": "3.7.16"
  }
 },
 "nbformat": 4,
 "nbformat_minor": 5
}
